{
 "cells": [
  {
   "cell_type": "code",
   "execution_count": 2,
   "id": "3638d037",
   "metadata": {},
   "outputs": [],
   "source": [
    "from data import students, levels"
   ]
  },
  {
   "cell_type": "markdown",
   "id": "534cf3ff",
   "metadata": {},
   "source": [
    "Soit les deux listes suivantes : students et levels ces deux listes sont de même longueur et correspondent respectivement aux noms des étudiants et à leur niveau d'étude, à l'aide de la fonction zip et d'une itération affichez le nom et le niveau de chaque étudiant."
   ]
  },
  {
   "cell_type": "code",
   "execution_count": 4,
   "id": "200ba8ea",
   "metadata": {},
   "outputs": [
    {
     "name": "stdout",
     "output_type": "stream",
     "text": [
      "[('Alan', 4), ('Albert', 2), ('Jhon', 3), ('Brice', 5), ('Alexendra', 7), ('Brad', 8), ('Carl', 2), ('Dallas', 6), ('Dennis', 4), ('Edgar', 3), ('Erika', 5), ('Isaac', 7), ('Ian', 5)]\n"
     ]
    }
   ],
   "source": [
    "stu = list(zip(students, levels))\n",
    "print(stu)"
   ]
  }
 ],
 "metadata": {
  "kernelspec": {
   "display_name": "Python 3 (ipykernel)",
   "language": "python",
   "name": "python3"
  },
  "language_info": {
   "codemirror_mode": {
    "name": "ipython",
    "version": 3
   },
   "file_extension": ".py",
   "mimetype": "text/x-python",
   "name": "python",
   "nbconvert_exporter": "python",
   "pygments_lexer": "ipython3",
   "version": "3.11.5"
  }
 },
 "nbformat": 4,
 "nbformat_minor": 5
}
