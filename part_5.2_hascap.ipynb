{
 "cells": [
  {
   "cell_type": "markdown",
   "id": "7e5ce2fa",
   "metadata": {},
   "source": [
    "Ecrire une classe HasCap qui lorsqu'on renvoie tous les mots/particules d'un texte t commençant par une majuscule dans un dictionnaire en comptant le nombre d'occurence de ces mots/particules."
   ]
  },
  {
   "cell_type": "code",
   "execution_count": 7,
   "id": "d027954f",
   "metadata": {},
   "outputs": [
    {
     "name": "stdout",
     "output_type": "stream",
     "text": [
      "{'Le': 1, 'Python': 1, 'BSD6': 1, 'Windows': 1, 'Unix': 1, 'GNU/Linux': 1, 'Android': 1, 'Java': 1, 'Il': 1}\n"
     ]
    }
   ],
   "source": [
    "class HasCap():\n",
    "  def __init__(self, phrase):\n",
    "    self.phrase = phrase\n",
    "    self.cap_words_count = {}\n",
    "\n",
    "  def parse(self):\n",
    "    words = self.phrase.split()\n",
    "    for word in words:\n",
    "      if word[0].isupper():\n",
    "        clean_word = word.strip('.,!?\"\\'')\n",
    "\n",
    "        if clean_word in self.cap_words_count:\n",
    "          self.cap_words_count[clean_word] += 1\n",
    "        else:\n",
    "          self.cap_words_count[clean_word] = 1\n",
    "\n",
    "    return self.cap_words_count\n",
    "\n",
    "phrase = \"Le langage Python est placé sous une licence libre proche de la licence BSD6 et fonctionne sur la plupart des plates-formes informatiques, des smartphones aux ordinateurs centraux7, de Windows à Unix avec notamment GNU/Linux en passant par macOS, ou encore Android, iOS, et peut aussi être traduit en Java ou .NET. Il est conçu pour optimiser la productivité des programmeurs en offrant des outils de haut niveau et une syntaxe simple à utiliser.\"\n",
    "\n",
    "hasCap = HasCap(phrase)\n",
    "\n",
    "print(hasCap.parse())"
   ]
  }
 ],
 "metadata": {
  "kernelspec": {
   "display_name": "Python 3 (ipykernel)",
   "language": "python",
   "name": "python3"
  },
  "language_info": {
   "codemirror_mode": {
    "name": "ipython",
    "version": 3
   },
   "file_extension": ".py",
   "mimetype": "text/x-python",
   "name": "python",
   "nbconvert_exporter": "python",
   "pygments_lexer": "ipython3",
   "version": "3.11.5"
  }
 },
 "nbformat": 4,
 "nbformat_minor": 5
}
