{
 "cells": [
  {
   "cell_type": "markdown",
   "id": "8d86750c",
   "metadata": {},
   "source": [
    "Créez une classe Parse, soit la chaîne de caractères suivantes, utilisez les fonctions strip() et split() pour retournez une structure\n",
    "comportant uniquement des numériques, vous testerez votre méthode sur la chaîne suivante :"
   ]
  },
  {
   "cell_type": "code",
   "execution_count": 8,
   "id": "8befcba4",
   "metadata": {},
   "outputs": [
    {
     "name": "stdout",
     "output_type": "stream",
     "text": [
      "8790 8987 7777 9007\n"
     ]
    }
   ],
   "source": [
    "phrase = '8790: bonjour le monde:8987:7777:Hello World:    9007'\n",
    "\n",
    "class Parser:\n",
    "  def __init__(self, delimiter, input_string):\n",
    "    self.delimiter = delimiter\n",
    "    self.input_string = input_string\n",
    "\n",
    "  def parse(self):\n",
    "    segments = self.input_string.split(self.delimiter)\n",
    "    numeric_values = [segment.strip() for segment in segments if segment.strip().isdigit()]\n",
    "    return numeric_values\n",
    "\n",
    "  def __str__(self):\n",
    "    numeric_values = self.parse()\n",
    "    result_string = ' '.join(numeric_values)\n",
    "    return result_string\n",
    "\n",
    "p = Parser(':', phrase)\n",
    "print(p)"
   ]
  }
 ],
 "metadata": {
  "kernelspec": {
   "display_name": "Python 3 (ipykernel)",
   "language": "python",
   "name": "python3"
  },
  "language_info": {
   "codemirror_mode": {
    "name": "ipython",
    "version": 3
   },
   "file_extension": ".py",
   "mimetype": "text/x-python",
   "name": "python",
   "nbconvert_exporter": "python",
   "pygments_lexer": "ipython3",
   "version": "3.11.5"
  }
 },
 "nbformat": 4,
 "nbformat_minor": 5
}
