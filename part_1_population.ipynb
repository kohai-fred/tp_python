{
 "cells": [
  {
   "cell_type": "code",
   "execution_count": 58,
   "id": "0b4869b5",
   "metadata": {},
   "outputs": [],
   "source": [
    "from data import populations, relationships"
   ]
  },
  {
   "cell_type": "markdown",
   "id": "ef9ce198",
   "metadata": {},
   "source": [
    "1. Ajout des relations"
   ]
  },
  {
   "cell_type": "code",
   "execution_count": 59,
   "id": "277c714b",
   "metadata": {},
   "outputs": [
    {
     "name": "stdout",
     "output_type": "stream",
     "text": [
      "[{'id': 0, 'name': 'Alan', 'relation': [1, 2]}, {'id': 1, 'name': 'Albert', 'relation': [0, 7, 10, 2, 4]}, {'id': 2, 'name': 'Jhon', 'relation': [0, 1, 10, 11, 3, 5]}, {'id': 3, 'name': 'Brice', 'relation': [2, 10, 4, 7]}, {'id': 4, 'name': 'Alexendra', 'relation': [1, 3, 5, 8, 9]}, {'id': 5, 'name': 'Brad', 'relation': [2, 4, 11, 7, 9]}, {'id': 6, 'name': 'Carl', 'relation': [7, 8]}, {'id': 7, 'name': 'Dallas', 'relation': [3, 5, 6, 1, 8]}, {'id': 8, 'name': 'Dennis', 'relation': [4, 6, 7, 9]}, {'id': 9, 'name': 'Edgar', 'relation': [4, 5, 8]}, {'id': 10, 'name': 'Erika', 'relation': [1, 2, 3]}, {'id': 11, 'name': 'Isaac', 'relation': [12, 2, 5]}, {'id': 12, 'name': 'Ian', 'relation': [11]}]\n"
     ]
    }
   ],
   "source": [
    "for pop in populations:\n",
    "  relationA = [x[1] for x in relationships if x[0] == pop[\"id\"]]\n",
    "  relationB = [x[0] for x in relationships if x[1] == pop[\"id\"]]\n",
    "  pop[\"relation\"] = relationB + relationA\n",
    "print(populations)"
   ]
  },
  {
   "cell_type": "markdown",
   "id": "17b85fb9",
   "metadata": {},
   "source": [
    "2. Calculer la moyenne des relations."
   ]
  },
  {
   "cell_type": "code",
   "execution_count": 60,
   "id": "e0a6cc4a",
   "metadata": {},
   "outputs": [
    {
     "name": "stdout",
     "output_type": "stream",
     "text": [
      "La moyenne des relations par personne est de 3.6923076923076925\n"
     ]
    }
   ],
   "source": [
    "average = sum(list(map(lambda pop : len(pop[\"relation\"]), populations))) / len(populations)\n",
    "\n",
    "print(f\"La moyenne des relations par personne est de {average}\")\n",
    "# ~3.69"
   ]
  },
  {
   "cell_type": "markdown",
   "id": "70db3f42",
   "metadata": {},
   "source": [
    "3. Créez une liste représentant les users (id) et le nombre de relation(s) qu'ils possèdent. Et retournez l'utilisateur qui possède le plus de relation(s)."
   ]
  },
  {
   "cell_type": "code",
   "execution_count": 73,
   "id": "5c7f7dba",
   "metadata": {},
   "outputs": [
    {
     "name": "stdout",
     "output_type": "stream",
     "text": [
      "L'utilisateur n°:2 Jhon à le plus de relations avec 6 relations.\n"
     ]
    }
   ],
   "source": [
    "idList = list(map(lambda pop: (pop[\"id\"], len(pop[\"relation\"])), populations))\n",
    "sortList = sorted(idList, key= lambda pop: pop[1])\n",
    "sortList.reverse()\n",
    "user = list(filter(lambda pop: pop[\"id\"] == sortList[0][0], populations))[0]\n",
    "\n",
    "print(f\"L'utilisateur n°:{user['id']} {user['name']} à le plus de relations avec {len(user['relation'])} relations.\")"
   ]
  },
  {
   "cell_type": "markdown",
   "id": "fb37c2d3",
   "metadata": {},
   "source": [
    "4. Trouvez les amis des amis de chaque utilisateur."
   ]
  },
  {
   "cell_type": "code",
   "execution_count": 94,
   "id": "fbe2654e",
   "metadata": {},
   "outputs": [
    {
     "name": "stdout",
     "output_type": "stream",
     "text": [
      "[{'id': 0, 'name': 'Alan', 'relation': [1, 2], 'friendsOfFriend': {0, 1, 2, 3, 4, 5, 7, 10, 11}}, {'id': 1, 'name': 'Albert', 'relation': [0, 7, 10, 2, 4], 'friendsOfFriend': {0, 1, 2, 3, 5, 6, 8, 9, 10, 11}}, {'id': 2, 'name': 'Jhon', 'relation': [0, 1, 10, 11, 3, 5], 'friendsOfFriend': {0, 1, 2, 3, 4, 5, 7, 9, 10, 11, 12}}, {'id': 3, 'name': 'Brice', 'relation': [2, 10, 4, 7], 'friendsOfFriend': {0, 1, 2, 3, 5, 6, 8, 9, 10, 11}}, {'id': 4, 'name': 'Alexendra', 'relation': [1, 3, 5, 8, 9], 'friendsOfFriend': {0, 2, 4, 5, 6, 7, 8, 9, 10, 11}}, {'id': 5, 'name': 'Brad', 'relation': [2, 4, 11, 7, 9], 'friendsOfFriend': {0, 1, 2, 3, 4, 5, 6, 8, 9, 10, 11, 12}}, {'id': 6, 'name': 'Carl', 'relation': [7, 8], 'friendsOfFriend': {1, 3, 4, 5, 6, 7, 8, 9}}, {'id': 7, 'name': 'Dallas', 'relation': [3, 5, 6, 1, 8], 'friendsOfFriend': {0, 2, 4, 6, 7, 8, 9, 10, 11}}, {'id': 8, 'name': 'Dennis', 'relation': [4, 6, 7, 9], 'friendsOfFriend': {1, 3, 4, 5, 6, 7, 8, 9}}, {'id': 9, 'name': 'Edgar', 'relation': [4, 5, 8], 'friendsOfFriend': {1, 2, 3, 4, 5, 6, 7, 8, 9, 11}}, {'id': 10, 'name': 'Erika', 'relation': [1, 2, 3], 'friendsOfFriend': {0, 1, 2, 3, 4, 5, 7, 10, 11}}, {'id': 11, 'name': 'Isaac', 'relation': [12, 2, 5], 'friendsOfFriend': {0, 1, 2, 3, 4, 5, 7, 9, 10, 11}}, {'id': 12, 'name': 'Ian', 'relation': [11], 'friendsOfFriend': {2, 12, 5}}]\n",
      "Stored 'populations' (list)\n"
     ]
    }
   ],
   "source": [
    "for pop in populations:\n",
    "  arrFriendsTemp = []\n",
    "  for friend in pop[\"relation\"]:\n",
    "    arrFriendsTemp += populations[friend][\"relation\"]\n",
    "  pop[\"friendsOfFriend\"] = set((arrFriendsTemp))\n",
    "\n",
    "print(populations)\n",
    "%store populations"
   ]
  }
 ],
 "metadata": {
  "kernelspec": {
   "display_name": "Python 3 (ipykernel)",
   "language": "python",
   "name": "python3"
  },
  "language_info": {
   "codemirror_mode": {
    "name": "ipython",
    "version": 3
   },
   "file_extension": ".py",
   "mimetype": "text/x-python",
   "name": "python",
   "nbconvert_exporter": "python",
   "pygments_lexer": "ipython3",
   "version": "3.11.5"
  }
 },
 "nbformat": 4,
 "nbformat_minor": 5
}
