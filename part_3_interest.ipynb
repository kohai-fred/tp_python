{
 "cells": [
  {
   "cell_type": "code",
   "execution_count": 1,
   "id": "3255e574",
   "metadata": {},
   "outputs": [],
   "source": [
    "from data import populations2, centers"
   ]
  },
  {
   "cell_type": "markdown",
   "id": "eb0a13c2",
   "metadata": {},
   "source": [
    "Ecrire une fonction qui retourne tous les utilisateurs qui partagent le même centre d'intérêt."
   ]
  },
  {
   "cell_type": "code",
   "execution_count": 4,
   "id": "810313e4",
   "metadata": {},
   "outputs": [
    {
     "name": "stdout",
     "output_type": "stream",
     "text": [
      "{'PHP': [0, 3, 4, 9, 17, 18, 19, 24, 29], 'MySQL': [0, 1], 'Angular': [0, 5, 7, 10, 12, 13, 14, 15, 16, 19, 29], 'Python': [2, 19, 20, 21, 22, 23], 'Vuejs': [6], 'Bigdata': [8], 'NoSQL': [10, 11, 25, 26, 28], 'Big data': [27, 29]}\n"
     ]
    }
   ],
   "source": [
    "def centerOfInterest(populations, centers):\n",
    "  langages = {}\n",
    "  for center in centers:\n",
    "    try:\n",
    "      langages[center[1]].append(center[0])\n",
    "    except:\n",
    "      langages[center[1]] = [center[0]]\n",
    "  return langages\n",
    "print(centerOfInterest(populations2, centers))"
   ]
  }
 ],
 "metadata": {
  "kernelspec": {
   "display_name": "Python 3 (ipykernel)",
   "language": "python",
   "name": "python3"
  },
  "language_info": {
   "codemirror_mode": {
    "name": "ipython",
    "version": 3
   },
   "file_extension": ".py",
   "mimetype": "text/x-python",
   "name": "python",
   "nbconvert_exporter": "python",
   "pygments_lexer": "ipython3",
   "version": "3.11.5"
  }
 },
 "nbformat": 4,
 "nbformat_minor": 5
}
