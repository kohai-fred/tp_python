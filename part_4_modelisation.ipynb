{
 "cells": [
  {
   "cell_type": "code",
   "execution_count": 65,
   "id": "a0f1ac01",
   "metadata": {},
   "outputs": [
    {
     "name": "stdout",
     "output_type": "stream",
     "text": [
      "no stored variable or alias stu,\n"
     ]
    }
   ],
   "source": [
    "%store -r stu, populations"
   ]
  },
  {
   "cell_type": "markdown",
   "id": "f9505a78",
   "metadata": {},
   "source": [
    "Pour vos résultats de la partie 1 et 2.\n",
    "\n",
    "Creez un model ( une classe ) pour enregistrer les données nettoyées, que vous allez enregistrer dans une table ou un ficher.\n",
    "\n",
    "Visualisez les données en console, par exemple, pour vérifier qu'elles sont correctectement importées"
   ]
  },
  {
   "cell_type": "code",
   "execution_count": 66,
   "id": "048e89ec",
   "metadata": {},
   "outputs": [],
   "source": [
    "class User :\n",
    "  def __init__(self,name, id=None, relation=[], friendsOfFriend=set(), level=None):\n",
    "    self.id = id\n",
    "    self.name = name\n",
    "    self.relation = relation\n",
    "    self.friendsOfFriend = friendsOfFriend\n",
    "    self.level = level\n",
    "\n",
    "  def __iter__(self):\n",
    "    return self\n",
    "  def __next__(self):\n",
    "    return self\n",
    "\n",
    "users = list(map(lambda user: User(**user).__dict__ ,populations))\n",
    "\n",
    "for student in stu:\n",
    "  index = next((i for (i, u) in enumerate(users) if u[\"name\"] == student[0]), None)\n",
    "  if index is not None:\n",
    "    users[index][\"level\"] = student[1]\n",
    "  else:\n",
    "    users.append(User(name=student[0], level=student[1]).__dict__)"
   ]
  },
  {
   "cell_type": "markdown",
   "id": "8cbcb156",
   "metadata": {},
   "source": [
    "Liste des utilisateurs suivant le schéma de la classe User"
   ]
  },
  {
   "cell_type": "code",
   "execution_count": 67,
   "id": "bc209843",
   "metadata": {},
   "outputs": [
    {
     "name": "stdout",
     "output_type": "stream",
     "text": [
      "{'id': 0, 'name': 'Alan', 'relation': [1, 2], 'friendsOfFriend': {0, 1, 2, 3, 4, 5, 7, 10, 11}, 'level': 4}\n",
      "{'id': 1, 'name': 'Albert', 'relation': [0, 7, 10, 2, 4], 'friendsOfFriend': {0, 1, 2, 3, 5, 6, 8, 9, 10, 11}, 'level': 2}\n",
      "{'id': 2, 'name': 'Jhon', 'relation': [0, 1, 10, 11, 3, 5], 'friendsOfFriend': {0, 1, 2, 3, 4, 5, 7, 9, 10, 11, 12}, 'level': 3}\n",
      "{'id': 3, 'name': 'Brice', 'relation': [2, 10, 4, 7], 'friendsOfFriend': {0, 1, 2, 3, 5, 6, 8, 9, 10, 11}, 'level': 5}\n",
      "{'id': 4, 'name': 'Alexendra', 'relation': [1, 3, 5, 8, 9], 'friendsOfFriend': {0, 2, 4, 5, 6, 7, 8, 9, 10, 11}, 'level': 7}\n",
      "{'id': 5, 'name': 'Brad', 'relation': [2, 4, 11, 7, 9], 'friendsOfFriend': {0, 1, 2, 3, 4, 5, 6, 8, 9, 10, 11, 12}, 'level': 8}\n",
      "{'id': 6, 'name': 'Carl', 'relation': [7, 8], 'friendsOfFriend': {1, 3, 4, 5, 6, 7, 8, 9}, 'level': 2}\n",
      "{'id': 7, 'name': 'Dallas', 'relation': [3, 5, 6, 1, 8], 'friendsOfFriend': {0, 2, 4, 6, 7, 8, 9, 10, 11}, 'level': 6}\n",
      "{'id': 8, 'name': 'Dennis', 'relation': [4, 6, 7, 9], 'friendsOfFriend': {1, 3, 4, 5, 6, 7, 8, 9}, 'level': 4}\n",
      "{'id': 9, 'name': 'Edgar', 'relation': [4, 5, 8], 'friendsOfFriend': {1, 2, 3, 4, 5, 6, 7, 8, 9, 11}, 'level': 3}\n",
      "{'id': 10, 'name': 'Erika', 'relation': [1, 2, 3], 'friendsOfFriend': {0, 1, 2, 3, 4, 5, 7, 10, 11}, 'level': 5}\n",
      "{'id': 11, 'name': 'Isaac', 'relation': [12, 2, 5], 'friendsOfFriend': {0, 1, 2, 3, 4, 5, 7, 9, 10, 11}, 'level': 7}\n",
      "{'id': 12, 'name': 'Ian', 'relation': [11], 'friendsOfFriend': {2, 12, 5}, 'level': 5}\n"
     ]
    }
   ],
   "source": [
    "for u in users:\n",
    "  print(u)"
   ]
  }
 ],
 "metadata": {
  "kernelspec": {
   "display_name": "Python 3 (ipykernel)",
   "language": "python",
   "name": "python3"
  },
  "language_info": {
   "codemirror_mode": {
    "name": "ipython",
    "version": 3
   },
   "file_extension": ".py",
   "mimetype": "text/x-python",
   "name": "python",
   "nbconvert_exporter": "python",
   "pygments_lexer": "ipython3",
   "version": "3.11.5"
  }
 },
 "nbformat": 4,
 "nbformat_minor": 5
}
